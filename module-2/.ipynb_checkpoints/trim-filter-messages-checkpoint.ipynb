{
 "cells": [
  {
   "cell_type": "markdown",
   "id": "c52ea2f9-03ff-4647-b782-46867ebed04e",
   "metadata": {},
   "source": [
    "# Filtering and trimming messages\n",
    "\n",
    "## Review\n",
    "\n",
    "We covered state schema, state reducers, and private state.\n",
    "\n",
    "These are all useful means of state management.\n",
    "\n",
    "## Goals\n",
    "\n",
    "But, additonal tricks are useful when working with messages in state!\n",
    "\n",
    "In particular, how can we manage cases when the message history gets long and starts to cost excessive tokens / latency.\n",
    "\n",
    "We'll cover several approaches!"
   ]
  },
  {
   "cell_type": "code",
   "execution_count": null,
   "id": "d5197aba-5d46-421b-ae3b-4e3034edcfda",
   "metadata": {},
   "outputs": [],
   "source": [
    "%%capture --no-stderr\n",
    "%pip install --quiet -U langchain_core langgraph langchain_openai"
   ]
  },
  {
   "cell_type": "code",
   "execution_count": null,
   "id": "768dc606-d5f2-468d-96ea-910b264e0f8a",
   "metadata": {},
   "outputs": [],
   "source": [
    "import os, getpass\n",
    "\n",
    "def _set_env(var: str):\n",
    "    if not os.environ.get(var):\n",
    "        os.environ[var] = getpass.getpass(f\"{var}: \")\n",
    "\n",
    "_set_env(\"OPENAI_API_KEY\")"
   ]
  },
  {
   "cell_type": "markdown",
   "id": "72f3fc90-58b6-4f7f-897e-dddf6ae532c7",
   "metadata": {},
   "source": [
    "First, let's define some messages."
   ]
  },
  {
   "cell_type": "code",
   "execution_count": 1,
   "id": "cf11a463-e27a-4a05-b41d-64882e38edca",
   "metadata": {},
   "outputs": [
    {
     "name": "stdout",
     "output_type": "stream",
     "text": [
      "==================================\u001b[1m Ai Message \u001b[0m==================================\n",
      "Name: Lance\n",
      "\n",
      "So you said you were researching ocean mammals?\n",
      "================================\u001b[1m Human Message \u001b[0m=================================\n",
      "Name: Bot\n",
      "\n",
      "Yes, I know about whales. But what others should I learn about?\n"
     ]
    }
   ],
   "source": [
    "from langchain_core.messages import AIMessage, HumanMessage\n",
    "messages = [AIMessage(f\"So you said you were researching ocean mammals?\", name=\"Bot\")]\n",
    "messages.extend([HumanMessage(f\"Yes, I know about whales. But what others should I learn about?\", name=\"Lance\")])\n",
    "\n",
    "from pprint import pprint\n",
    "for m in messages:\n",
    "    m.pretty_print()"
   ]
  },
  {
   "cell_type": "markdown",
   "id": "b814adcb-6bf9-4b75-be11-e59f933fbd0c",
   "metadata": {},
   "source": [
    "Recall we can pass them to a chat model."
   ]
  },
  {
   "cell_type": "code",
   "execution_count": 2,
   "id": "4712e288-e622-48a2-ad3f-a52f65f3ab08",
   "metadata": {},
   "outputs": [
    {
     "data": {
      "text/plain": [
       "AIMessage(content='There are many fascinating ocean mammals beyond whales that you might want to learn about. Here\\'s a brief overview of some of them:\\n\\n1. **Dolphins**: Highly intelligent and social animals. Species include the common bottlenose dolphin and the orca (which is actually a type of dolphin).\\n\\n2. **Porpoises**: Similar to dolphins but generally smaller, with different teeth and body shapes. The harbor porpoise is a common example.\\n\\n3. **Seals**: Pinnipeds that include various species like the harbor seal and the elephant seal. They are known for their adaptability to both aquatic and terrestrial environments.\\n\\n4. **Sea Lions**: Also pinnipeds, but unlike seals, they have external ear flaps and can \"walk\" on land using their large flippers. The California sea lion is a well-known species.\\n\\n5. **Walruses**: Large pinnipeds distinguished by their long tusks, whiskers, and bulk. They primarily inhabit Arctic regions.\\n\\n6. **Manatees and Dugongs**: Known as sea cows, these gentle herbivores are found in warm coastal waters. Manatees are typically found in the Americas, while dugongs are found in the Indian and Pacific Oceans.\\n\\n7. **Sea Otters**: Known for their playful behavior and use of tools to open shellfish. They are crucial for maintaining kelp forest ecosystems.\\n\\n8. **Polar Bears**: While not exclusively marine, polar bears spend much of their lives on sea ice hunting seals. They are excellent swimmers and depend heavily on the Arctic marine environment.\\n\\n9. **Narwhals**: Known as the \"unicorns of the sea\" due to the long, spiral tusk that males possess. They live in Arctic waters and are relatively elusive.\\n\\n10. **Sperm Whales**: Not just any whale, sperm whales have a distinct large head and are known for diving to great depths to hunt giant squid.\\n\\nEach of these marine mammals has unique adaptations that allow them to thrive in their specific environments. Learning about their behaviors, habitats, and conservation status can provide a deeper understanding of marine ecosystems.', response_metadata={'token_usage': {'completion_tokens': 436, 'prompt_tokens': 39, 'total_tokens': 475}, 'model_name': 'gpt-4o-2024-05-13', 'system_fingerprint': 'fp_df84d6bd70', 'finish_reason': 'stop', 'logprobs': None}, id='run-7c7b1950-9992-414b-b73e-15d4a54989f7-0', usage_metadata={'input_tokens': 39, 'output_tokens': 436, 'total_tokens': 475})"
      ]
     },
     "execution_count": 2,
     "metadata": {},
     "output_type": "execute_result"
    }
   ],
   "source": [
    "from langchain_openai import ChatOpenAI\n",
    "llm = ChatOpenAI(model=\"gpt-4o\")\n",
    "llm.invoke(messages)"
   ]
  },
  {
   "cell_type": "markdown",
   "id": "fbd1dab8-0af8-4621-8264-ce65065f76ec",
   "metadata": {},
   "source": [
    "We cam also fold this into a graph!"
   ]
  },
  {
   "cell_type": "code",
   "execution_count": 3,
   "id": "bbd8c39c-633b-4176-9cc6-8318e42bb5dd",
   "metadata": {},
   "outputs": [
    {
     "data": {
      "image/jpeg": "[encoded data removed]",
      "text/plain": [
       "<IPython.core.display.Image object>"
      ]
     },
     "metadata": {},
     "output_type": "display_data"
    }
   ],
   "source": [
    "from IPython.display import Image, display\n",
    "from langgraph.graph import MessagesState\n",
    "from langgraph.graph import StateGraph, START, END\n",
    "\n",
    "# State\n",
    "class MessagesState(MessagesState):\n",
    "    pass\n",
    "\n",
    "# Node\n",
    "def chat_model_node(state: MessagesState):\n",
    "    return {\"messages\": llm.invoke(state[\"messages\"])}\n",
    "\n",
    "# Build grapph\n",
    "builder = StateGraph(MessagesState)\n",
    "builder.add_node(\"chat_model\", chat_model_node)\n",
    "builder.add_edge(START, \"chat_model\")\n",
    "builder.add_edge(\"chat_model\", END)\n",
    "graph = builder.compile()\n",
    "\n",
    "# View\n",
    "display(Image(graph.get_graph().draw_mermaid_png()))"
   ]
  },
  {
   "cell_type": "code",
   "execution_count": 4,
   "id": "3a5a3e4a-ccfd-4d14-81f1-f0de6e11a1e4",
   "metadata": {},
   "outputs": [
    {
     "name": "stdout",
     "output_type": "stream",
     "text": [
      "==================================\u001b[1m Ai Message \u001b[0m==================================\n",
      "Name: Lance\n",
      "\n",
      "So you said you were researching ocean mammals?\n",
      "================================\u001b[1m Human Message \u001b[0m=================================\n",
      "Name: Bot\n",
      "\n",
      "Yes, I know about whales. But what others should I learn about?\n",
      "==================================\u001b[1m Ai Message \u001b[0m==================================\n",
      "\n",
      "Great question! There are several fascinating ocean mammals to learn about beyond whales. Here are a few you might find interesting:\n",
      "\n",
      "1. **Dolphins**: Known for their intelligence and playful behavior, dolphins are part of the cetacean family, which also includes whales and porpoises.\n",
      "\n",
      "2. **Porpoises**: Often confused with dolphins, porpoises are smaller and have different physical characteristics, such as spade-shaped teeth and a shorter beak.\n",
      "\n",
      "3. **Seals**: There are various types of seals, including the common seal and the elephant seal. They are known for their ability to live both on land and in the sea.\n",
      "\n",
      "4. **Sea Lions**: Similar to seals but with external ear flaps and the ability to \"walk\" on land using their large flippers.\n",
      "\n",
      "5. **Walruses**: Recognizable by their long tusks, walruses are large marine mammals that primarily live in Arctic regions.\n",
      "\n",
      "6. **Manatees and Dugongs**: Also known as sea cows, these gentle giants are herbivorous and can be found in warm coastal waters.\n",
      "\n",
      "7. **Sea Otters**: The smallest marine mammals, sea otters are known for their playful behavior and use of tools to open shellfish.\n",
      "\n",
      "8. **Polar Bears**: While not exclusively marine, polar bears depend heavily on the ocean for hunting seals and are excellent swimmers.\n",
      "\n",
      "9. **Orcas (Killer Whales)**: Although called whales, orcas are actually the largest members of the dolphin family. They are apex predators and highly social animals.\n",
      "\n",
      "10. **Narwhals**: Known for their long, spiral tusks, narwhals are medium-sized whales that live in Arctic waters and are often referred to as the \"unicorns of the sea.\"\n",
      "\n",
      "Each of these mammals has unique adaptations and behaviors that make them fascinating subjects of study. Happy learning!\n"
     ]
    }
   ],
   "source": [
    "messages = graph.invoke({'messages': messages})\n",
    "for m in messages['messages']:\n",
    "    m.pretty_print()"
   ]
  },
  {
   "cell_type": "markdown",
   "id": "f506457d-014b-4fee-a684-e5edfb4b8f0d",
   "metadata": {},
   "source": [
    "## Filtering messages\n",
    "\n",
    "As conversations get longer, they consume more tokens. \n",
    "\n",
    "This can often be undesirable as it leads to more expensive and longer calls to the LLM.\n",
    "\n",
    "Messages are simply a list that can be [filtered easily](https://langchain-ai.github.io/langgraph/how-tos/memory/manage-conversation-history/#filtering-messages).\n",
    "\n",
    "Let's define `filter_messages` as a simple helper function, which will keep only the last two messages!\n",
    "\n",
    "Optionally, we can use [LangSmith](https://docs.smith.langchain.com/) here to view the traces for our chat model invocations."
   ]
  },
  {
   "cell_type": "code",
   "execution_count": null,
   "id": "4799bfa6-f33a-4451-9c88-8b30b0511791",
   "metadata": {},
   "outputs": [],
   "source": [
    "_set_env(\"LANGCHAIN_API_KEY\")\n",
    "os.environ[\"LANGCHAIN_TRACING_V2\"] = \"true\"\n",
    "os.environ[\"LANGCHAIN_ENDPOINT\"] = \"https://api.smith.langchain.com\" "
   ]
  },
  {
   "cell_type": "code",
   "execution_count": 5,
   "id": "22d0b904-7cd6-486b-8948-105bee3d4683",
   "metadata": {},
   "outputs": [
    {
     "data": {
      "image/jpeg": "[encoded data removed]",
      "text/plain": [
       "<IPython.core.display.Image object>"
      ]
     },
     "metadata": {},
     "output_type": "display_data"
    }
   ],
   "source": [
    "# State\n",
    "class MessagesState(MessagesState):\n",
    "    pass\n",
    "\n",
    "def filter_messages(messages: list):\n",
    "    # This is a simple helper function which only ever uses the last message\n",
    "    return messages[-1:]\n",
    "\n",
    "# Node\n",
    "def chat_model_node(state: MessagesState):\n",
    "    messages = filter_messages(state[\"messages\"])\n",
    "    return {\"messages\": llm.invoke(messages)}\n",
    "\n",
    "# Build grapph\n",
    "builder = StateGraph(MessagesState)\n",
    "builder.add_node(\"chat_model\", chat_model_node)\n",
    "builder.add_edge(START, \"chat_model\")\n",
    "builder.add_edge(\"chat_model\", END)\n",
    "graph = builder.compile()\n",
    "\n",
    "# View\n",
    "display(Image(graph.get_graph().draw_mermaid_png()))"
   ]
  },
  {
   "cell_type": "code",
   "execution_count": 10,
   "id": "85563415-c085-46a8-a4ac-155df798c54e",
   "metadata": {},
   "outputs": [
    {
     "name": "stdout",
     "output_type": "stream",
     "text": [
      "==================================\u001b[1m Ai Message \u001b[0m==================================\n",
      "Name: Lance\n",
      "\n",
      "So you said you were researching ocean mammals?\n",
      "================================\u001b[1m Human Message \u001b[0m=================================\n",
      "Name: Bot\n",
      "\n",
      "Yes, I know about whales. But what others should I learn about?\n",
      "==================================\u001b[1m Ai Message \u001b[0m==================================\n",
      "\n",
      "Great question! There are several fascinating ocean mammals to learn about beyond whales. Here are a few you might find interesting:\n",
      "\n",
      "1. **Dolphins**: Known for their intelligence and playful behavior, dolphins are part of the cetacean family, which also includes whales and porpoises.\n",
      "\n",
      "2. **Porpoises**: Often confused with dolphins, porpoises are smaller and have different physical characteristics, such as spade-shaped teeth and a shorter beak.\n",
      "\n",
      "3. **Seals**: There are various types of seals, including the common seal and the elephant seal. They are known for their ability to live both on land and in the sea.\n",
      "\n",
      "4. **Sea Lions**: Similar to seals but with external ear flaps and the ability to \"walk\" on land using their large flippers.\n",
      "\n",
      "5. **Walruses**: Recognizable by their long tusks, walruses are large marine mammals that primarily live in Arctic regions.\n",
      "\n",
      "6. **Manatees and Dugongs**: Also known as sea cows, these gentle giants are herbivorous and can be found in warm coastal waters.\n",
      "\n",
      "7. **Sea Otters**: The smallest marine mammals, sea otters are known for their playful behavior and use of tools to open shellfish.\n",
      "\n",
      "8. **Polar Bears**: While not exclusively marine, polar bears depend heavily on the ocean for hunting seals and are excellent swimmers.\n",
      "\n",
      "9. **Orcas (Killer Whales)**: Although called whales, orcas are actually the largest members of the dolphin family. They are apex predators and highly social animals.\n",
      "\n",
      "10. **Narwhals**: Known for their long, spiral tusks, narwhals are medium-sized whales that live in Arctic waters and are often referred to as the \"unicorns of the sea.\"\n",
      "\n",
      "Each of these mammals has unique adaptations and behaviors that make them fascinating subjects of study. Happy learning!\n",
      "================================\u001b[1m Human Message \u001b[0m=================================\n",
      "Name: Lance\n",
      "\n",
      "Tell me more about Narwhals!\n"
     ]
    }
   ],
   "source": [
    "messages['messages'].append(HumanMessage(f\"Tell me more about Narwhals!\", name=\"Lance\"))\n",
    "for m in messages['messages']:\n",
    "    m.pretty_print()"
   ]
  },
  {
   "cell_type": "code",
   "execution_count": 11,
   "id": "23349705-a059-47b5-9760-d8f64e687393",
   "metadata": {},
   "outputs": [
    {
     "name": "stdout",
     "output_type": "stream",
     "text": [
      "==================================\u001b[1m Ai Message \u001b[0m==================================\n",
      "Name: Lance\n",
      "\n",
      "So you said you were researching ocean mammals?\n",
      "================================\u001b[1m Human Message \u001b[0m=================================\n",
      "Name: Bot\n",
      "\n",
      "Yes, I know about whales. But what others should I learn about?\n",
      "==================================\u001b[1m Ai Message \u001b[0m==================================\n",
      "\n",
      "Great question! There are several fascinating ocean mammals to learn about beyond whales. Here are a few you might find interesting:\n",
      "\n",
      "1. **Dolphins**: Known for their intelligence and playful behavior, dolphins are part of the cetacean family, which also includes whales and porpoises.\n",
      "\n",
      "2. **Porpoises**: Often confused with dolphins, porpoises are smaller and have different physical characteristics, such as spade-shaped teeth and a shorter beak.\n",
      "\n",
      "3. **Seals**: There are various types of seals, including the common seal and the elephant seal. They are known for their ability to live both on land and in the sea.\n",
      "\n",
      "4. **Sea Lions**: Similar to seals but with external ear flaps and the ability to \"walk\" on land using their large flippers.\n",
      "\n",
      "5. **Walruses**: Recognizable by their long tusks, walruses are large marine mammals that primarily live in Arctic regions.\n",
      "\n",
      "6. **Manatees and Dugongs**: Also known as sea cows, these gentle giants are herbivorous and can be found in warm coastal waters.\n",
      "\n",
      "7. **Sea Otters**: The smallest marine mammals, sea otters are known for their playful behavior and use of tools to open shellfish.\n",
      "\n",
      "8. **Polar Bears**: While not exclusively marine, polar bears depend heavily on the ocean for hunting seals and are excellent swimmers.\n",
      "\n",
      "9. **Orcas (Killer Whales)**: Although called whales, orcas are actually the largest members of the dolphin family. They are apex predators and highly social animals.\n",
      "\n",
      "10. **Narwhals**: Known for their long, spiral tusks, narwhals are medium-sized whales that live in Arctic waters and are often referred to as the \"unicorns of the sea.\"\n",
      "\n",
      "Each of these mammals has unique adaptations and behaviors that make them fascinating subjects of study. Happy learning!\n",
      "================================\u001b[1m Human Message \u001b[0m=================================\n",
      "Name: Lance\n",
      "\n",
      "Tell me more about Narwhals!\n",
      "==================================\u001b[1m Ai Message \u001b[0m==================================\n",
      "\n",
      "Sure! Narwhals are fascinating marine mammals known for their distinctive long, spiral tusk, which is actually an elongated upper left canine tooth. Here are some key points about narwhals:\n",
      "\n",
      "### Physical Characteristics:\n",
      "- **Tusk:** The most notable feature of a narwhal is its tusk, which can grow up to 10 feet (3 meters) long. While most commonly associated with males, about 15% of females also grow tusks.\n",
      "- **Size:** Adult narwhals typically range from 13 to 18 feet (4 to 5.5 meters) in length, not including the tusk. They can weigh between 1,760 to 3,530 pounds (800 to 1,600 kilograms).\n",
      "- **Color:** Narwhals are born with a bluish-gray color and become more mottled with age, eventually turning nearly all white in old age.\n",
      "\n",
      "### Habitat:\n",
      "- Narwhals are native to the Arctic waters around Greenland, Canada, and Russia. They prefer deep, icy waters and are particularly associated with pack ice.\n",
      "\n",
      "### Diet:\n",
      "- Their diet primarily consists of fish, squid, and shrimp. They are known to dive to great depths (up to 5,000 feet or 1,500 meters) to forage for food.\n",
      "\n",
      "### Behavior:\n",
      "- **Social Structure:** Narwhals are social animals, often found in groups called pods. A typical pod consists of 5 to 10 individuals, but larger gatherings can occur.\n",
      "- **Communication:** They communicate using a variety of clicks, whistles, and knocks, which are believed to help in echolocation and social interaction.\n",
      "\n",
      "### Reproduction:\n",
      "- Female narwhals typically give birth to a single calf after a gestation period of around 14 months. The calves are usually born between June and August.\n",
      "\n",
      "### Conservation Status:\n",
      "- Narwhals are currently classified as \"Near Threatened\" by the International Union for Conservation of Nature (IUCN). Their primary threats include climate change, which impacts their icy habitat, and human activities such as hunting and industrial development.\n",
      "\n",
      "### Cultural Significance:\n",
      "- Narwhals have a significant place in Inuit culture and mythology. The Inuit people have hunted narwhals for centuries, using their tusks, meat, and blubber.\n",
      "\n",
      "### Scientific Research:\n",
      "- The tusk's function is still not entirely understood, but hypotheses include its use in mating rituals, dominance displays, or as a sensory organ. Recent studies suggest the tusk may be highly sensitive to changes in the environment, helping narwhals detect changes in water temperature and salinity.\n",
      "\n",
      "Narwhals are sometimes referred to as the \"unicorns of the sea\" due to their unique tusks and mysterious nature. They continue to be a subject of fascination and study among scientists and marine enthusiasts alike.\n"
     ]
    }
   ],
   "source": [
    "# Invoke, using message filtering\n",
    "messages_out = graph.invoke({'messages': messages['messages']})\n",
    "for m in messages_out['messages']:\n",
    "    m.pretty_print()"
   ]
  },
  {
   "cell_type": "markdown",
   "id": "42e1d8d2-e297-4d78-b54c-d12b3c866745",
   "metadata": {},
   "source": [
    "Let's look at the LangSmith trace for the model invocation:\n",
    "\n",
    "https://smith.langchain.com/public/9d36720e-afd0-4953-a010-60a4ce0a2708/r"
   ]
  },
  {
   "cell_type": "markdown",
   "id": "fc40d930-3c1f-47fe-8d2a-ce174873353c",
   "metadata": {},
   "source": [
    "## Trim messages\n",
    "\n",
    "Another approach is to [trim messages](https://python.langchain.com/v0.2/docs/how_to/trim_messages/#getting-the-last-max_tokens-tokens), based upon a set number of tokens. \n",
    "\n",
    "This restricts the message history to a specified number of tokens.\n",
    "\n",
    "While filtering only returns a post-hoc subset of the messages between agents, trimming restricts the number of tokens that a chat model can respond with.\n",
    "\n",
    "See the `trim_graph_messages` function below."
   ]
  },
  {
   "cell_type": "code",
   "execution_count": 37,
   "id": "2ff99b81-cf03-4cc2-b44f-44829a73e1fd",
   "metadata": {},
   "outputs": [
    {
     "data": {
      "image/jpeg": "[encoded data removed]",
      "text/plain": [
       "<IPython.core.display.Image object>"
      ]
     },
     "metadata": {},
     "output_type": "display_data"
    }
   ],
   "source": [
    "from langchain_core.messages import trim_messages\n",
    "\n",
    "# State\n",
    "class MessagesState(MessagesState):\n",
    "    pass\n",
    "\n",
    "# Trim\n",
    "def trim_graph_messages(messages: list):\n",
    "    return trim_messages(\n",
    "            messages_out['messages'],\n",
    "            max_tokens=500,\n",
    "            strategy=\"last\",\n",
    "            token_counter=ChatOpenAI(model=\"gpt-4o\"),\n",
    "            allow_partial=True,\n",
    "        )\n",
    "# Node\n",
    "def chat_model_node(state: MessagesState):\n",
    "    messages = trim_graph_messages(state[\"messages\"])\n",
    "    return {\"messages\": llm.invoke(messages)}\n",
    "\n",
    "# Build grapph\n",
    "builder = StateGraph(MessagesState)\n",
    "builder.add_node(\"chat_model\", chat_model_node)\n",
    "builder.add_edge(START, \"chat_model\")\n",
    "builder.add_edge(\"chat_model\", END)\n",
    "graph = builder.compile()\n",
    "\n",
    "# View\n",
    "display(Image(graph.get_graph().draw_mermaid_png()))"
   ]
  },
  {
   "cell_type": "code",
   "execution_count": 33,
   "id": "24df63ac-da29-4874-b3df-7e390e97cc8a",
   "metadata": {},
   "outputs": [],
   "source": [
    "messages_out['messages'].append(HumanMessage(f\"Tell me where Orcas live!\", name=\"Lance\"))"
   ]
  },
  {
   "cell_type": "code",
   "execution_count": 38,
   "id": "6d9d8971-c75c-43ca-a209-eb1d07b2ead0",
   "metadata": {},
   "outputs": [
    {
     "data": {
      "text/plain": [
       "[HumanMessage(content='Tell me where Orcas live!', name='Lance')]"
      ]
     },
     "execution_count": 38,
     "metadata": {},
     "output_type": "execute_result"
    }
   ],
   "source": [
    "trim_messages(\n",
    "            messages_out['messages'],\n",
    "            max_tokens=500,\n",
    "            strategy=\"last\",\n",
    "            token_counter=ChatOpenAI(model=\"gpt-4o\"),\n",
    "        )"
   ]
  },
  {
   "cell_type": "code",
   "execution_count": null,
   "id": "ed70a269-a869-4fa0-a1df-29736a432c51",
   "metadata": {},
   "outputs": [],
   "source": [
    "# Invoke, using message trimming\n",
    "messages_out_trim = graph.invoke({'messages': messages_out['messages']})"
   ]
  },
  {
   "cell_type": "markdown",
   "id": "38b3db67-380e-46b5-9a6a-20100ba52008",
   "metadata": {},
   "source": [
    "Let's look at the LangSmith trace to see the model invocation:\n",
    "\n",
    "https://smith.langchain.com/public/b153f7e9-f1a5-4d60-8074-f0d7ab5b42ef/r"
   ]
  },
  {
   "cell_type": "code",
   "execution_count": null,
   "id": "7e305ba5-e2a9-4546-9db5-eb8cdc339b2a",
   "metadata": {},
   "outputs": [],
   "source": []
  }
 ],
 "metadata": {
  "kernelspec": {
   "display_name": "Python 3 (ipykernel)",
   "language": "python",
   "name": "python3"
  },
  "language_info": {
   "codemirror_mode": {
    "name": "ipython",
    "version": 3
   },
   "file_extension": ".py",
   "mimetype": "text/x-python",
   "name": "python",
   "nbconvert_exporter": "python",
   "pygments_lexer": "ipython3",
   "version": "3.11.8"
  }
 },
 "nbformat": 4,
 "nbformat_minor": 5
}
