{
 "cells": [
  {
   "cell_type": "markdown",
   "id": "f118fabe-37b7-4cd4-b7a4-9b0fc3875ca3",
   "metadata": {},
   "source": [
    "# State Schema \n",
    "\n",
    "## Review\n",
    "\n",
    "In module 1, we built up to an agent with memory that used messages as state.\n",
    "\n",
    "## Goals\n",
    "\n",
    "In this module, we're going build a deeper understand of both state and memory.\n",
    "\n",
    "Here's lets first dive a bit deeper into graph state."
   ]
  },
  {
   "cell_type": "code",
   "execution_count": 1,
   "id": "b9a896f4-8509-456a-9a25-46532342f459",
   "metadata": {},
   "outputs": [],
   "source": [
    "%%capture --no-stderr\n",
    "%pip install --quiet -U langchain_core langgraph"
   ]
  },
  {
   "cell_type": "markdown",
   "id": "9f7927b0-9909-4e54-b997-ac49c1aeaa09",
   "metadata": {},
   "source": [
    "`StateGraph` takes in a [single schema](https://langchain-ai.github.io/langgraph/concepts/low_level/#state).\n",
    "\n",
    "All nodes are expected to communicate with that schema.\n",
    "\n",
    "Here is a state schema that we defined previously."
   ]
  },
  {
   "cell_type": "code",
   "execution_count": 4,
   "id": "f70f3844-d5a1-4d42-857a-48e3590c2427",
   "metadata": {},
   "outputs": [],
   "source": [
    "from typing import TypedDict, Annotated\n",
    "from langchain_core.messages import AnyMessage\n",
    "from langgraph.graph.message import add_messages\n",
    "\n",
    "class MessagesState(TypedDict):\n",
    "    messages: Annotated[list[AnyMessage], add_messages]"
   ]
  },
  {
   "cell_type": "markdown",
   "id": "3f34ac42-e313-4ff1-ac84-6a8713196f96",
   "metadata": {},
   "source": [
    "This includes two things:\n",
    "\n",
    "(1) the \"shape\" of its state. In this case, it's a dict with key `messages`.\n",
    "\n",
    "(2) how to perform updates to state. In this case, use the `add_messages` reducer to append messages. \n",
    "\n",
    "The state schema can be any type, though we often use `TypedDict`.\n",
    "\n",
    "One alternative is to use a [Pydantic base model](https://docs.pydantic.dev/latest/api/base_model/).\n",
    "\n",
    "This is useful if you want to apply additional validation on state updates."
   ]
  },
  {
   "cell_type": "code",
   "execution_count": 5,
   "id": "bc384058-6947-4d3a-85fa-2a3a8f272800",
   "metadata": {},
   "outputs": [],
   "source": [
    "import operator\n",
    "from typing import Sequence\n",
    "from langchain_core.messages import BaseMessage\n",
    "from langchain_core.pydantic_v1 import BaseModel\n",
    "from langchain_core.pydantic_v1 import validator, ValidationError\n",
    "\n",
    "class MessagesState(BaseModel):\n",
    "    messages: Annotated[Sequence[BaseMessage], operator.add]\n",
    "\n",
    "    @validator('messages')\n",
    "    def validate_messages(cls, value):\n",
    "        # Example validation: ensure the sequence is not empty\n",
    "        if len(value) == 0:\n",
    "            raise ValueError(\"Messages cannot be empty\")\n",
    "        # Example validation: you can add more custom checks here\n",
    "        return value"
   ]
  },
  {
   "cell_type": "code",
   "execution_count": 6,
   "id": "5f83b0de-d607-4221-b3b6-2f89bb34abaa",
   "metadata": {},
   "outputs": [
    {
     "name": "stdout",
     "output_type": "stream",
     "text": [
      "Validation Error: 1 validation error for MessagesState\n",
      "messages\n",
      "  Messages cannot be empty (type=value_error)\n"
     ]
    }
   ],
   "source": [
    "# Example usage\n",
    "try:\n",
    "    # Create an instance with an empty sequence (this should raise a validation error)\n",
    "    state = MessagesState(messages=[])\n",
    "except ValidationError as e:\n",
    "    print(\"Validation Error:\", e)"
   ]
  },
  {
   "cell_type": "code",
   "execution_count": null,
   "id": "4c99ec7b-86d2-43b6-a81e-50278149fcb7",
   "metadata": {},
   "outputs": [],
   "source": []
  }
 ],
 "metadata": {
  "kernelspec": {
   "display_name": "Python 3 (ipykernel)",
   "language": "python",
   "name": "python3"
  },
  "language_info": {
   "codemirror_mode": {
    "name": "ipython",
    "version": 3
   },
   "file_extension": ".py",
   "mimetype": "text/x-python",
   "name": "python",
   "nbconvert_exporter": "python",
   "pygments_lexer": "ipython3",
   "version": "3.11.8"
  }
 },
 "nbformat": 4,
 "nbformat_minor": 5
}
