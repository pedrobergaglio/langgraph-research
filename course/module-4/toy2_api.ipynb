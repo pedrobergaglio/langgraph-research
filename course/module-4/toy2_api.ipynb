{
 "cells": [
  {
   "cell_type": "code",
   "execution_count": 76,
   "metadata": {},
   "outputs": [],
   "source": [
    "from langgraph_sdk import get_client\n",
    "\n",
    "# Replace this with the URL of your own deployed graph\n",
    "URL = \"http://localhost:7777\"\n",
    "client = get_client(url=URL)\n",
    "\n",
    "# Search all hosted graphs\n",
    "assistants = await client.assistants.search()"
   ]
  },
  {
   "cell_type": "code",
   "execution_count": 130,
   "metadata": {},
   "outputs": [
    {
     "data": {
      "text/plain": [
       "' print(f\"Receiving new event of type: {chunk.event}...\")\\n    print(json.dumps(chunk.data, indent=4))\\n    print(\"\\n\\n\") '"
      ]
     },
     "execution_count": 130,
     "metadata": {},
     "output_type": "execute_result"
    }
   ],
   "source": [
    "import json\n",
    "\n",
    "thread = await client.threads.create()\n",
    "input_dict = {\"request\": \"please pay the last bill in gmail\"}\n",
    "\n",
    "async for chunk in client.runs.stream(\n",
    "    thread[\"thread_id\"],\n",
    "    assistant_id=\"toy_example2\",\n",
    "    input=input_dict,\n",
    "    stream_mode=\"values\",):\n",
    "        continue\n",
    "    \n",
    "\"\"\" print(f\"Receiving new event of type: {chunk.event}...\")\n",
    "    print(json.dumps(chunk.data, indent=4))\n",
    "    print(\"\\n\\n\") \"\"\""
   ]
  },
  {
   "cell_type": "code",
   "execution_count": 131,
   "metadata": {},
   "outputs": [
    {
     "data": {
      "text/plain": [
       "['human_feedback']"
      ]
     },
     "execution_count": 131,
     "metadata": {},
     "output_type": "execute_result"
    }
   ],
   "source": [
    "current_state = await client.threads.get_state(thread['thread_id'])\n",
    "current_state['next']"
   ]
  },
  {
   "cell_type": "code",
   "execution_count": 132,
   "metadata": {},
   "outputs": [
    {
     "name": "stdout",
     "output_type": "stream",
     "text": [
      "Receiving new event of type: metadata...\n",
      "{\n",
      "    \"run_id\": \"1efb9b1a-e41c-6625-a681-ad857b12d731\",\n",
      "    \"attempt\": 1\n",
      "}\n",
      "\n",
      "\n",
      "\n",
      "Receiving new event of type: updates...\n",
      "{\n",
      "    \"human_feedback\": null\n",
      "}\n",
      "\n",
      "\n",
      "\n",
      "Receiving new event of type: updates...\n",
      "{\n",
      "    \"executor\": {\n",
      "        \"actions_done\": [\n",
      "            {\n",
      "                \"name\": \"read last 10 emails and find the bill\",\n",
      "                \"type\": \"gmail\",\n",
      "                \"confirmed\": true\n",
      "            }\n",
      "        ],\n",
      "        \"actions_pending\": [\n",
      "            {\n",
      "                \"name\": \"load bill into erp\",\n",
      "                \"type\": \"erp\",\n",
      "                \"confirmed\": false\n",
      "            },\n",
      "            {\n",
      "                \"name\": \"send payment to provider\",\n",
      "                \"type\": \"bank\",\n",
      "                \"confirmed\": false\n",
      "            }\n",
      "        ],\n",
      "        \"human_feedback_message\": null,\n",
      "        \"human_confirmation_message\": \"no\"\n",
      "    }\n",
      "}\n",
      "\n",
      "\n",
      "\n",
      "Receiving new event of type: updates...\n",
      "{\n",
      "    \"human_confirmation\": null\n",
      "}\n",
      "\n",
      "\n",
      "\n",
      "Receiving new event of type: updates...\n",
      "{\n",
      "    \"__interrupt__\": [\n",
      "        {\n",
      "            \"value\": \"The task load bill into erp needs confirmation from the user\",\n",
      "            \"resumable\": false,\n",
      "            \"ns\": null,\n",
      "            \"when\": \"during\"\n",
      "        }\n",
      "    ]\n",
      "}\n",
      "\n",
      "\n",
      "\n"
     ]
    }
   ],
   "source": [
    "async for chunk in client.runs.stream(\n",
    "    thread[\"thread_id\"],\n",
    "    assistant_id=\"toy_example2\",\n",
    "    input=None, # this is like a \"continue\" signal\n",
    "    stream_mode=\"updates\",):\n",
    "        #continue\n",
    "    print(f\"Receiving new event of type: {chunk.event}...\")\n",
    "    print(json.dumps(chunk.data, indent=4))\n",
    "    print(\"\\n\\n\")"
   ]
  },
  {
   "cell_type": "code",
   "execution_count": 113,
   "metadata": {},
   "outputs": [
    {
     "data": {
      "text/plain": [
       "['executor']"
      ]
     },
     "execution_count": 113,
     "metadata": {},
     "output_type": "execute_result"
    }
   ],
   "source": [
    "current_state = await client.threads.get_state(thread['thread_id'])\n",
    "current_state['next']"
   ]
  },
  {
   "cell_type": "code",
   "execution_count": 102,
   "metadata": {},
   "outputs": [
    {
     "data": {
      "text/plain": [
       "{'values': {'request': 'please pay the last bill in gmail',\n",
       "  'stored_procedures': {'procedures': [{'description': 'review last bill received in gmail and pay it',\n",
       "     'actions': [{'name': 'read last 10 emails and find the bill',\n",
       "       'type': 'gmail',\n",
       "       'confirmed': True},\n",
       "      {'name': 'load bill into erp', 'type': 'erp', 'confirmed': False},\n",
       "      {'name': 'send payment to provider',\n",
       "       'type': 'bank',\n",
       "       'confirmed': False}]},\n",
       "    {'description': 'prepare salaries of employees and pay them',\n",
       "     'actions': [{'name': 'calculate monthly hours per employee',\n",
       "       'type': 'google sheets',\n",
       "       'confirmed': True},\n",
       "      {'name': 'load results into erp', 'type': 'erp', 'confirmed': True},\n",
       "      {'name': 'send payment to employees',\n",
       "       'type': 'bank',\n",
       "       'confirmed': False}]},\n",
       "    {'description': 'report on financial state of the company',\n",
       "     'actions': [{'name': 'load last month data from erp',\n",
       "       'type': 'erp',\n",
       "       'confirmed': True},\n",
       "      {'name': 'calculate profits and costs',\n",
       "       'type': 'calculator',\n",
       "       'confirmed': True},\n",
       "      {'name': 'generate sections', 'type': 'agents', 'confirmed': True},\n",
       "      {'name': 'generate report',\n",
       "       'type': 'report generator',\n",
       "       'confirmed': True}]}]},\n",
       "  'procedure': {'description': 'review last bill received in gmail and pay it',\n",
       "   'actions': [{'name': 'read last 10 emails and find the bill',\n",
       "     'type': 'gmail',\n",
       "     'confirmed': True},\n",
       "    {'name': 'load bill into erp', 'type': 'erp', 'confirmed': False},\n",
       "    {'name': 'send payment to provider', 'type': 'bank', 'confirmed': False}]},\n",
       "  'actions_pending': [{'name': 'load bill into erp',\n",
       "    'type': 'erp',\n",
       "    'confirmed': False},\n",
       "   {'name': 'send payment to provider', 'type': 'bank', 'confirmed': False}],\n",
       "  'actions_done': [{'name': 'read last 10 emails and find the bill',\n",
       "    'type': 'gmail',\n",
       "    'confirmed': True}]},\n",
       " 'next': [],\n",
       " 'tasks': [],\n",
       " 'metadata': {'step': 4,\n",
       "  'run_id': '1efb9b04-cb99-6b17-8ce1-73658057bb48',\n",
       "  'source': 'loop',\n",
       "  'writes': {'human_confirmation': None},\n",
       "  'parents': {},\n",
       "  'user_id': '',\n",
       "  'graph_id': 'toy_example2',\n",
       "  'thread_id': '1caf1aa2-de11-49f6-a634-bf29ac5d364d',\n",
       "  'created_by': 'system',\n",
       "  'run_attempt': 1,\n",
       "  'assistant_id': 'b861b339-5d1c-52bf-a307-bcf6e59ff7bb',\n",
       "  'langgraph_host': 'self-hosted',\n",
       "  'langgraph_plan': 'developer',\n",
       "  'langgraph_version': '0.2.59'},\n",
       " 'created_at': '2024-12-14T00:13:52.953621+00:00',\n",
       " 'checkpoint': {'checkpoint_id': '1efb9b04-d082-6356-8004-e5883fa68d4f',\n",
       "  'thread_id': '1caf1aa2-de11-49f6-a634-bf29ac5d364d',\n",
       "  'checkpoint_ns': ''},\n",
       " 'parent_checkpoint': {'checkpoint_id': '1efb9b04-d078-609f-8003-2b790f5e2666',\n",
       "  'thread_id': '1caf1aa2-de11-49f6-a634-bf29ac5d364d',\n",
       "  'checkpoint_ns': ''},\n",
       " 'checkpoint_id': '1efb9b04-d082-6356-8004-e5883fa68d4f',\n",
       " 'parent_checkpoint_id': '1efb9b04-d078-609f-8003-2b790f5e2666'}"
      ]
     },
     "execution_count": 102,
     "metadata": {},
     "output_type": "execute_result"
    }
   ],
   "source": [
    "current_state"
   ]
  },
  {
   "cell_type": "code",
   "execution_count": 133,
   "metadata": {},
   "outputs": [
    {
     "data": {
      "text/plain": [
       "{'checkpoint': {'thread_id': 'd4e583d9-1c35-4d4c-ac3c-63ff107bec3b',\n",
       "  'checkpoint_ns': '',\n",
       "  'checkpoint_id': '1efb9b1b-a20a-6be0-8005-e1c74323a642'},\n",
       " 'configurable': {'thread_id': 'd4e583d9-1c35-4d4c-ac3c-63ff107bec3b',\n",
       "  'checkpoint_ns': '',\n",
       "  'checkpoint_id': '1efb9b1b-a20a-6be0-8005-e1c74323a642'},\n",
       " 'checkpoint_id': '1efb9b1b-a20a-6be0-8005-e1c74323a642'}"
      ]
     },
     "execution_count": 133,
     "metadata": {},
     "output_type": "execute_result"
    }
   ],
   "source": [
    "await client.threads.update_state(thread['thread_id'], {\"human_confirmation_message\": \"yes\"})"
   ]
  },
  {
   "cell_type": "code",
   "execution_count": null,
   "metadata": {},
   "outputs": [
    {
     "name": "stdout",
     "output_type": "stream",
     "text": [
      "Receiving new event of type: metadata...\n",
      "{\n",
      "    \"run_id\": \"1efb9b1b-b2e1-6ba6-a356-1e095407103f\",\n",
      "    \"attempt\": 1\n",
      "}\n",
      "\n",
      "\n",
      "\n",
      "Receiving new event of type: updates...\n",
      "{\n",
      "    \"executor\": {\n",
      "        \"actions_done\": [\n",
      "            {\n",
      "                \"name\": \"read last 10 emails and find the bill\",\n",
      "                \"type\": \"gmail\",\n",
      "                \"confirmed\": true\n",
      "            },\n",
      "            {\n",
      "                \"name\": \"load bill into erp\",\n",
      "                \"type\": \"erp\",\n",
      "                \"confirmed\": false\n",
      "            }\n",
      "        ],\n",
      "        \"actions_pending\": [\n",
      "            {\n",
      "                \"name\": \"send payment to provider\",\n",
      "                \"type\": \"bank\",\n",
      "                \"confirmed\": false\n",
      "            }\n",
      "        ],\n",
      "        \"human_feedback_message\": null,\n",
      "        \"human_confirmation_message\": \"no\"\n",
      "    }\n",
      "}\n",
      "\n",
      "\n",
      "\n",
      "Receiving new event of type: updates...\n",
      "{\n",
      "    \"human_confirmation\": null\n",
      "}\n",
      "\n",
      "\n",
      "\n",
      "Receiving new event of type: updates...\n",
      "{\n",
      "    \"__interrupt__\": [\n",
      "        {\n",
      "            \"value\": \"The task send payment to provider needs confirmation from the user\",\n",
      "            \"resumable\": false,\n",
      "            \"ns\": null,\n",
      "            \"when\": \"during\"\n",
      "        }\n",
      "    ]\n",
      "}\n",
      "\n",
      "\n",
      "\n"
     ]
    }
   ],
   "source": [
    "async for chunk in client.runs.stream(\n",
    "    thread[\"thread_id\"],\n",
    "    assistant_id=\"toy_example2\",\n",
    "    input=None, # this is like a \"continue\" signal\n",
    "    stream_mode=\"updates\",):\n",
    "        #continue\n",
    "    print(f\"Receiving new event of type: {chunk.event}...\")\n",
    "    print(json.dumps(chunk.data, indent=4))\n",
    "    print(\"\\n\\n\")"
   ]
  },
  {
   "cell_type": "code",
   "execution_count": 135,
   "metadata": {},
   "outputs": [
    {
     "name": "stdout",
     "output_type": "stream",
     "text": [
      "Receiving new event of type: metadata...\n",
      "{\n",
      "    \"run_id\": \"1efb9b1c-7865-6052-9572-147583bd7683\",\n",
      "    \"attempt\": 1\n",
      "}\n",
      "\n",
      "\n",
      "\n",
      "Receiving new event of type: updates...\n",
      "{\n",
      "    \"executor\": {\n",
      "        \"actions_done\": [\n",
      "            {\n",
      "                \"name\": \"read last 10 emails and find the bill\",\n",
      "                \"type\": \"gmail\",\n",
      "                \"confirmed\": true\n",
      "            },\n",
      "            {\n",
      "                \"name\": \"load bill into erp\",\n",
      "                \"type\": \"erp\",\n",
      "                \"confirmed\": false\n",
      "            },\n",
      "            {\n",
      "                \"name\": \"send payment to provider\",\n",
      "                \"type\": \"bank\",\n",
      "                \"confirmed\": false\n",
      "            }\n",
      "        ],\n",
      "        \"actions_pending\": [],\n",
      "        \"human_feedback_message\": null,\n",
      "        \"human_confirmation_message\": \"no\"\n",
      "    }\n",
      "}\n",
      "\n",
      "\n",
      "\n",
      "Receiving new event of type: updates...\n",
      "{\n",
      "    \"human_confirmation\": null\n",
      "}\n",
      "\n",
      "\n",
      "\n"
     ]
    }
   ],
   "source": [
    "await client.threads.update_state(thread['thread_id'], {\"human_confirmation_message\": \"yes\"})\n",
    "\n",
    "async for chunk in client.runs.stream(\n",
    "    thread[\"thread_id\"],\n",
    "    assistant_id=\"toy_example2\",\n",
    "    input=None, # this is like a \"continue\" signal\n",
    "    stream_mode=\"updates\",):\n",
    "        #continue\n",
    "    print(f\"Receiving new event of type: {chunk.event}...\")\n",
    "    print(json.dumps(chunk.data, indent=4))\n",
    "    print(\"\\n\\n\")"
   ]
  },
  {
   "cell_type": "code",
   "execution_count": 136,
   "metadata": {},
   "outputs": [
    {
     "data": {
      "text/plain": [
       "[]"
      ]
     },
     "execution_count": 136,
     "metadata": {},
     "output_type": "execute_result"
    }
   ],
   "source": [
    "current_state = await client.threads.get_state(thread['thread_id'])\n",
    "current_state['next']"
   ]
  },
  {
   "cell_type": "code",
   "execution_count": null,
   "metadata": {},
   "outputs": [],
   "source": []
  }
 ],
 "metadata": {
  "kernelspec": {
   "display_name": "venv",
   "language": "python",
   "name": "python3"
  },
  "language_info": {
   "codemirror_mode": {
    "name": "ipython",
    "version": 3
   },
   "file_extension": ".py",
   "mimetype": "text/x-python",
   "name": "python",
   "nbconvert_exporter": "python",
   "pygments_lexer": "ipython3",
   "version": "3.11.1"
  }
 },
 "nbformat": 4,
 "nbformat_minor": 2
}
