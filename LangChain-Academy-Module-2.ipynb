{
 "cells": [
  {
   "cell_type": "markdown",
   "id": "1a8fb3bd-e409-4463-a974-7d5968c7f5d1",
   "metadata": {},
   "source": [
    "### Lesson 1: Mananging Message History\n",
    "\n",
    "#### Messages\n",
    "\n",
    "First, let's briefly review `messages`, which re-enforces what we learned in Module 1.\n",
    "\n",
    "[Chat models](https://python.langchain.com/v0.2/docs/concepts/#chat-models) take a set of [messages](https://python.langchain.com/v0.2/docs/concepts/#messages) as inputs, and return a `message` as output. \n",
    "\n",
    "Chat models support the assignment of distinct roles to conversation messages. \n",
    "\n",
    "Let's create a list of messages with different roles:\n",
    "\n",
    "* `AIMessage` represents a message from an AI assistant\n",
    "* `HumanMessage` represents a message from a human user"
   ]
  },
  {
   "cell_type": "code",
   "execution_count": null,
   "id": "abcafbac-eb79-45a1-b4d9-4423d3a6bf1a",
   "metadata": {},
   "outputs": [],
   "source": [
    "%%capture --no-stderr\n",
    "%pip install --quiet -U langgraph langgraph langchain_openai langchain_anthropic"
   ]
  },
  {
   "cell_type": "code",
   "execution_count": null,
   "id": "5a1b2518-4977-4728-83d0-d93c1f7a1b2f",
   "metadata": {},
   "outputs": [],
   "source": [
    "import os, getpass\n",
    "\n",
    "def _set_env(var: str):\n",
    "    if not os.environ.get(var):\n",
    "        os.environ[var] = getpass.getpass(f\"{var}: \")\n",
    "\n",
    "_set_env(\"OPENAI_API_KEY\")\n",
    "_set_env(\"ANTHROPIC_API_KEY\")"
   ]
  },
  {
   "cell_type": "code",
   "execution_count": 36,
   "id": "a37a165b-16b8-47f8-83b4-2dcc72d95146",
   "metadata": {},
   "outputs": [],
   "source": [
    "from langchain_core.messages import AIMessage, HumanMessage\n",
    "messages = [AIMessage(f\"So you said you were researching ocean mammals?\")]\n",
    "messages.extend([HumanMessage(f\"Yes, I know about whales. But what others should I learn about?\")])"
   ]
  },
  {
   "cell_type": "markdown",
   "id": "7ce502bf-558a-441a-b9a3-94c95d1ad4b1",
   "metadata": {},
   "source": [
    "We can pass this to a Chat model, and it responds with an `AIMessage`."
   ]
  },
  {
   "cell_type": "code",
   "execution_count": 8,
   "id": "766427ec-a184-423b-81c9-847b36f22fa0",
   "metadata": {},
   "outputs": [
    {
     "data": {
      "text/plain": [
       "AIMessage(content='Great to hear that you\\'re interested in ocean mammals! Besides whales, there are several other fascinating marine mammals you might want to explore:\\n\\n### Dolphins\\n- **Bottlenose Dolphins**: Known for their intelligence and playful behavior.\\n- **Orcas (Killer Whales)**: Actually a type of dolphin, these apex predators are highly social and have complex hunting strategies.\\n\\n### Seals and Sea Lions\\n- **Harbor Seals**: Common in coastal areas, known for their spotted coats.\\n- **California Sea Lions**: Recognizable by their external ear flaps and barking sounds.\\n- **Walrus**: Notable for their long tusks and large size.\\n\\n### Manatees and Dugongs\\n- **West Indian Manatee**: Often referred to as \"sea cows,\" these gentle giants are found in warm coastal waters.\\n- **Dugong**: Similar to manatees but with a fluked tail, they inhabit the coastal waters of the Indian and Pacific Oceans.\\n\\n### Otters\\n- **Sea Otters**: Known for their dense fur and use of tools to open shellfish. They play a crucial role in maintaining kelp forest ecosystems.\\n\\n### Polar Bears\\n- While primarily terrestrial, polar bears are excellent swimmers and spend a significant amount of time in the Arctic Ocean hunting for seals.\\n\\n### Sperm Whales\\n- Known for their large brains and deep-diving capabilities, they are often found in deep ocean waters.\\n\\n### Beaked Whales\\n- These elusive whales are deep divers and are less well-known due to their reclusive nature.\\n\\n### Narwhals\\n- Recognizable by the long, spiral tusk (actually a tooth) of the males. They inhabit Arctic waters.\\n\\n### Porpoises\\n- Similar to dolphins but generally smaller and with different dental structures.\\n\\nExploring these marine mammals will give you a broader understanding of the diversity and complexity of life in our oceans. Each species has unique adaptations and behaviors that make them fascinating subjects of study.', response_metadata={'token_usage': {'completion_tokens': 405, 'prompt_tokens': 35, 'total_tokens': 440}, 'model_name': 'gpt-4o-2024-05-13', 'system_fingerprint': 'fp_4e2b2da518', 'finish_reason': 'stop', 'logprobs': None}, id='run-db60938e-7713-4edd-86e8-e194cc2ed74f-0', usage_metadata={'input_tokens': 35, 'output_tokens': 405, 'total_tokens': 440})"
      ]
     },
     "execution_count": 8,
     "metadata": {},
     "output_type": "execute_result"
    }
   ],
   "source": [
    "from langchain_openai import ChatOpenAI\n",
    "llm = ChatOpenAI(model=\"gpt-4o\")\n",
    "llm.invoke(messages)"
   ]
  },
  {
   "cell_type": "markdown",
   "id": "70a56829-5178-4aaf-86dc-af229191a301",
   "metadata": {},
   "source": [
    "As discussed in Module 1, we can use messages in our Graph as the [State](https://langchain-ai.github.io/langgraph/concepts/low_level/#working-with-messages-in-graph-state).\n",
    "\n",
    "* We use a `TypedDict` with a single key `messages`, which is a list of `AnyMessage` objects. \n",
    "* The `Annotated` type is used with `add_messages`, which [is a reducer function](https://langchain-ai.github.io/langgraph/concepts/low_level/#using-messages-in-your-graph).\n",
    "* Reducers determine how updates are applied to the state.\n",
    "* The `add_messages` reducer will append new messages to the existing list."
   ]
  },
  {
   "cell_type": "code",
   "execution_count": 37,
   "id": "37610d4d-cc7a-4cb0-beee-d7ce00a7612f",
   "metadata": {},
   "outputs": [
    {
     "data": {
      "image/jpeg": "[encoded data removed]",
      "text/plain": [
       "<IPython.core.display.Image object>"
      ]
     },
     "metadata": {},
     "output_type": "display_data"
    }
   ],
   "source": [
    "from typing import Annotated, List, TypedDict\n",
    "from langgraph.graph import StateGraph, START, END\n",
    "from IPython.display import Image, display\n",
    "from langchain_core.messages import AnyMessage\n",
    "from langgraph.graph.message import add_messages\n",
    "\n",
    "# State\n",
    "class MessagesState(MessagesState):\n",
    "    messages: Annotated[list[AnyMessage], add_messages]\n",
    "\n",
    "# Node\n",
    "def chat_model_node(state: MessagesState):\n",
    "    return {\"messages\": llm.invoke(state[\"messages\"])}\n",
    "\n",
    "# Build grapph\n",
    "builder = StateGraph(MessagesState)\n",
    "builder.add_node(\"chat_model\", chat_model_node)\n",
    "builder.add_edge(START, \"chat_model\")\n",
    "builder.add_edge(\"chat_model\", END)\n",
    "graph = builder.compile()\n",
    "\n",
    "# View\n",
    "display(Image(graph.get_graph().draw_mermaid_png()))"
   ]
  },
  {
   "cell_type": "code",
   "execution_count": 38,
   "id": "c2209e97-98e1-4ade-bb4a-e4892ad567f1",
   "metadata": {},
   "outputs": [],
   "source": [
    "messages = graph.invoke({'messages': messages})"
   ]
  },
  {
   "cell_type": "markdown",
   "id": "1aa702b8-9c1b-4228-b260-e55464780e56",
   "metadata": {},
   "source": [
    "Notice now we return the chat model output:\n",
    "\n",
    "```\n",
    "return {\"messages\": [llm.invoke(state[\"messages\"])]}\n",
    "```\n",
    "\n",
    "This line is crucial for appending the chat model output to our state:\n",
    "\n",
    "* `llm.invoke(state[\"messages\"])` generates a new message from the language model based on the conversation history.\n",
    "* The message is returned in a dictionary with the key \"messages\".\n",
    "* When this dictionary is returned from the node, LangGraph applies it as an update to the state.\n",
    "* We used the `add_messages` reducer in our state definition.\n",
    "* The reducer means that the new message is appended to the existing list of messages in the state, rather than replacing it."
   ]
  },
  {
   "cell_type": "code",
   "execution_count": 39,
   "id": "b48b3d9a-437d-42cd-962b-70145da0c7cb",
   "metadata": {},
   "outputs": [
    {
     "data": {
      "text/plain": [
       "[AIMessage(content='So you said you were researching ocean mammals?', id='67838cd9-f2a7-4f8b-b4e1-2c0244a3fd2c'),\n",
       " HumanMessage(content='Yes, I know about whales. But what others should I learn about?', id='8a1f6637-2e4a-4546-97ff-02e215786cd7'),\n",
       " AIMessage(content='That\\'s great that you know about whales! There\\'s a fascinating variety of ocean mammals you can learn about. Here are a few others you might find interesting:\\n\\n1. **Dolphins**: Closely related to whales, dolphins are highly intelligent and social animals. They are known for their playful behavior and complex communication skills.\\n\\n2. **Porpoises**: Often confused with dolphins, porpoises are smaller and have different physical characteristics, such as a more rounded snout and spade-shaped teeth.\\n\\n3. **Seals**: There are two main types of seals: earless seals (true seals) and eared seals (which include sea lions and fur seals). They are adapted to life both in the water and on land.\\n\\n4. **Sea Lions**: These are part of the eared seal family and are known for their loud barking and ability to \"walk\" on land using their large flippers.\\n\\n5. **Walruses**: Recognizable by their long tusks and whiskers, walruses are large marine mammals that live in Arctic regions. They use their tusks for hauling themselves out of the water and for defense.\\n\\n6. **Manatees and Dugongs**: These gentle giants are herbivorous marine mammals often referred to as sea cows. They are found in warm coastal waters and rivers.\\n\\n7. **Sea Otters**: While not fully marine, sea otters spend most of their time in the water. They are known for their use of tools to open shellfish and their thick fur, which provides insulation.\\n\\n8. **Polar Bears**: Although primarily land animals, polar bears are excellent swimmers and spend a significant amount of time hunting seals on sea ice.\\n\\n9. **Narwhals**: Known as the \"unicorns of the sea,\" these Arctic whales have a long, spiral tusk that can reach up to 10 feet in length.\\n\\n10. **Sperm Whales**: Famous for their large heads and prominent role in literature, sperm whales are deep-diving mammals known for their complex social structures and echolocation abilities.\\n\\nEach of these mammals has unique adaptations that allow them to thrive in their specific marine environments. Researching them will give you a broader understanding of the diversity and complexity of ocean life.', response_metadata={'token_usage': {'completion_tokens': 461, 'prompt_tokens': 35, 'total_tokens': 496}, 'model_name': 'gpt-4o-2024-05-13', 'system_fingerprint': 'fp_4e2b2da518', 'finish_reason': 'stop', 'logprobs': None}, id='run-fb28ac70-3402-4f73-8eb3-9c30450e2e23-0', usage_metadata={'input_tokens': 35, 'output_tokens': 461, 'total_tokens': 496})]"
      ]
     },
     "execution_count": 39,
     "metadata": {},
     "output_type": "execute_result"
    }
   ],
   "source": [
    "messages['messages']"
   ]
  },
  {
   "cell_type": "markdown",
   "id": "525ad56d-84da-4d6c-ac03-e6d16e4f967f",
   "metadata": {},
   "source": [
    "#### Filtering messages\n",
    "\n",
    "As conversations get longer, they consume more tokens. \n",
    "\n",
    "This can often be undesirable as it leads to more expensive and longer calls to the LLM.\n",
    "\n",
    "Of course, messages are simply a list that can be [filtered easily](https://langchain-ai.github.io/langgraph/how-tos/memory/manage-conversation-history/#filtering-messages)."
   ]
  },
  {
   "cell_type": "code",
   "execution_count": 28,
   "id": "76eeeb83-bc36-437b-9d3a-a087388fe8c9",
   "metadata": {},
   "outputs": [
    {
     "data": {
      "text/plain": [
       "AIMessage(content='So you said you were researching ocean mammals?', id='b24fec42-91e6-4ac9-a71b-4dca10026ba7')"
      ]
     },
     "execution_count": 28,
     "metadata": {},
     "output_type": "execute_result"
    }
   ],
   "source": [
    "messages['messages'][0]"
   ]
  },
  {
   "cell_type": "code",
   "execution_count": 30,
   "id": "3e10c48c-3e50-40ef-ad96-b2d930b57a2b",
   "metadata": {},
   "outputs": [
    {
     "data": {
      "image/jpeg": "[encoded data removed]",
      "text/plain": [
       "<IPython.core.display.Image object>"
      ]
     },
     "metadata": {},
     "output_type": "display_data"
    }
   ],
   "source": [
    "# State\n",
    "class MessagesState(MessagesState):\n",
    "    messages: Annotated[list[AnyMessage], add_messages]\n",
    "\n",
    "def filter_messages(messages: list):\n",
    "    # This is a simple helper function which only ever uses the last two messages\n",
    "    return messages[-1:]\n",
    "\n",
    "# Node\n",
    "def chat_model_node(state: MessagesState):\n",
    "    messages = filter_messages(state[\"messages\"])\n",
    "    return {\"messages\": llm.invoke(messages)}\n",
    "\n",
    "# Build grapph\n",
    "builder = StateGraph(MessagesState)\n",
    "builder.add_node(\"chat_model\", chat_model_node)\n",
    "builder.add_edge(START, \"chat_model\")\n",
    "builder.add_edge(\"chat_model\", END)\n",
    "graph = builder.compile()\n",
    "\n",
    "# View\n",
    "display(Image(graph.get_graph().draw_mermaid_png()))"
   ]
  },
  {
   "cell_type": "code",
   "execution_count": 41,
   "id": "0a964376-ee26-4d90-a6de-70fa809e0a7d",
   "metadata": {},
   "outputs": [],
   "source": [
    "# Create a new list of mesages\n",
    "messages = [AIMessage(f\"So you said you were researching ocean mammals?\")]\n",
    "messages.extend([HumanMessage(f\"Yes, that's right.\")])\n",
    "messages.extend([AIMessage(f\"Great, what would you like to learn about.\")])\n",
    "messages.extend([HumanMessage(f\"I want to learn about the best place to see Orcas on the West Coast of the United States.\")])"
   ]
  },
  {
   "cell_type": "code",
   "execution_count": 32,
   "id": "910c98dd-9892-49bd-b2f7-6d5ce7328af3",
   "metadata": {},
   "outputs": [],
   "source": [
    "# Invoke, using message filtering\n",
    "messages_out = graph.invoke({'messages': messages})"
   ]
  },
  {
   "cell_type": "markdown",
   "id": "b9ac1d72-d0bd-408e-afef-37ff4d467741",
   "metadata": {},
   "source": [
    "We can see that the chat model call uses a [filtered history of 2 messages](https://smith.langchain.com/public/5863928c-1ec4-42d3-898e-eaee4fcfec11/r)."
   ]
  },
  {
   "cell_type": "markdown",
   "id": "5aca9683-ff90-4e32-a6e2-741df15b1965",
   "metadata": {},
   "source": [
    "#### Trim messages\n",
    "\n",
    "Another approach is to [trim messages](https://python.langchain.com/v0.2/docs/how_to/trim_messages/#getting-the-last-max_tokens-tokens), based upon a set number of tokens. \n",
    "\n",
    "This restricts the message history to a specified number of tokens."
   ]
  },
  {
   "cell_type": "code",
   "execution_count": null,
   "id": "6c9252f1-922e-481e-8c3c-86748e9da6d0",
   "metadata": {},
   "outputs": [],
   "source": [
    "from langchain_core.messages import trim_messages\n",
    "\n",
    "# State\n",
    "class MessagesState(MessagesState):\n",
    "    messages: Annotated[list[AnyMessage], add_messages]\n",
    "\n",
    "def trim_messages(messages: list):\n",
    "    return trim_messages(\n",
    "        messages,\n",
    "        max_tokens=250,\n",
    "        strategy=\"last\",\n",
    "        token_counter=ChatOpenAI(model=\"gpt-4o\"),\n",
    "    )\n",
    "\n",
    "# Node\n",
    "def chat_model_node(state: MessagesState):\n",
    "    messages = trim_messages(state[\"messages\"])\n",
    "    return {\"messages\": llm.invoke(messages)}\n",
    "\n",
    "# Build grapph\n",
    "builder = StateGraph(MessagesState)\n",
    "builder.add_node(\"chat_model\", chat_model_node)\n",
    "builder.add_edge(START, \"chat_model\")\n",
    "builder.add_edge(\"chat_model\", END)\n",
    "graph = builder.compile()\n",
    "\n",
    "# View\n",
    "display(Image(graph.get_graph().draw_mermaid_png()))"
   ]
  },
  {
   "cell_type": "code",
   "execution_count": 42,
   "id": "e35c3983-adfc-41e7-b97e-0b94ccd55577",
   "metadata": {},
   "outputs": [],
   "source": [
    "# Invoke, using message trimming\n",
    "messages_out = graph.invoke({'messages': messages})"
   ]
  },
  {
   "cell_type": "markdown",
   "id": "eca07bdd-a62f-46c8-a38b-940aee8e3b22",
   "metadata": {},
   "source": [
    "Again, we can look at the [trace](https://smith.langchain.com/public/314dd5b2-77ee-4426-a1c2-21a3db398c77/r) to see how many messages are passed given our trim specification."
   ]
  },
  {
   "cell_type": "markdown",
   "id": "6f60c3d3-91f4-4e7f-9332-9347038eaa34",
   "metadata": {},
   "source": [
    "### Lesson 2: Message Summarization\n",
    "\n",
    "Another useful trick is to [create a summary](https://langchain-ai.github.io/langgraph/how-tos/memory/add-summary-conversation-history/) of the conversation to date, and use that with the past N messages."
   ]
  },
  {
   "cell_type": "code",
   "execution_count": 47,
   "id": "d62af2e9-6708-4fd0-9244-6447264a8931",
   "metadata": {},
   "outputs": [],
   "source": [
    "# We will use this model for both the conversation and the summarization\n",
    "model = ChatAnthropic(model_name=\"claude-3-haiku-20240307\")"
   ]
  },
  {
   "cell_type": "code",
   "execution_count": 58,
   "id": "557ee9ba-e28a-4ad5-993b-ef9c259eea80",
   "metadata": {},
   "outputs": [
    {
     "data": {
      "image/jpeg": "[encoded data removed]",
      "text/plain": [
       "<IPython.core.display.Image object>"
      ]
     },
     "metadata": {},
     "output_type": "display_data"
    }
   ],
   "source": [
    "from langgraph.checkpoint.sqlite import SqliteSaver\n",
    "from langchain_core.messages import SystemMessage, RemoveMessage\n",
    "\n",
    "class State(MessagesState):\n",
    "    summary: str\n",
    "    messages: Annotated[list[AnyMessage], add_messages]\n",
    "\n",
    "# Define the logic to call the model\n",
    "def call_model(state: State):\n",
    "    \n",
    "    # Get summary if it exists\n",
    "    summary = state.get(\"summary\", \"\")\n",
    "\n",
    "    # If there is summary, then we add it\n",
    "    if summary:\n",
    "        \n",
    "        # Add summary to system message\n",
    "        system_message = f\"Summary of conversation earlier: {summary}\"\n",
    "\n",
    "        # Append summary to any newer messages\n",
    "        messages = [SystemMessage(content=system_message)] + state[\"messages\"]\n",
    "    \n",
    "    else:\n",
    "        messages = state[\"messages\"]\n",
    "    \n",
    "    response = model.invoke(messages)\n",
    "    return {\"messages\": response}\n",
    "\n",
    "# Determine whether to end or summarize the conversation\n",
    "def should_continue(state: State) -> Literal[\"summarize_conversation\", END]:\n",
    "    \n",
    "    \"\"\"Return the next node to execute.\"\"\"\n",
    "    \n",
    "    messages = state[\"messages\"]\n",
    "    \n",
    "    # If there are more than six messages, then we summarize the conversation\n",
    "    if len(messages) > 6:\n",
    "        return \"summarize_conversation\"\n",
    "    \n",
    "    ***REMOVED***wise we can just end\n",
    "    return END\n",
    "\n",
    "def summarize_conversation(state: State):\n",
    "    \n",
    "    # First, we summarize the conversation\n",
    "    summary = state.get(\"summary\", \"\")\n",
    "\n",
    "    # Create our summarization prompt \n",
    "    if summary:\n",
    "        \n",
    "        # If a summary already exists\n",
    "        summary_message = (\n",
    "            f\"This is summary of the conversation to date: {summary}\\n\\n\"\n",
    "            \"Extend the summary by taking into account the new messages above:\"\n",
    "        )\n",
    "        \n",
    "    else:\n",
    "        summary_message = \"Create a summary of the conversation above:\"\n",
    "\n",
    "    # Add prompt to our history\n",
    "    messages = state[\"messages\"] + [HumanMessage(content=summary_message)]\n",
    "    response = model.invoke(messages)\n",
    "    \n",
    "    # Add our summary to the state \n",
    "    # Delete all but the 2 most recent messages\n",
    "    delete_messages = [RemoveMessage(id=m.id) for m in state[\"messages\"][:-2]]\n",
    "    return {\"summary\": response.content, \"messages\": delete_messages}\n",
    "\n",
    "# Define a new graph\n",
    "workflow = StateGraph(State)\n",
    "\n",
    "# Define the conversation node and the summarize node\n",
    "workflow.add_node(\"conversation\", call_model)\n",
    "workflow.add_node(summarize_conversation)\n",
    "\n",
    "# Set the entrypoint as conversation\n",
    "workflow.add_edge(START, \"conversation\")\n",
    "\n",
    "# We now add a conditional edge\n",
    "workflow.add_conditional_edges(\"conversation\", should_continue)\n",
    "\n",
    "# We now add a normal edge from `summarize_conversation` to END.\n",
    "workflow.add_edge(\"summarize_conversation\", END)\n",
    "\n",
    "# Compile\n",
    "memory = SqliteSaver.from_conn_string(\":memory:\")\n",
    "graph = workflow.compile(checkpointer=memory)\n",
    "display(Image(app.get_graph().draw_mermaid_png()))"
   ]
  },
  {
   "cell_type": "markdown",
   "id": "d485e2a9-5b54-4dae-be13-957d0ce81fe4",
   "metadata": {},
   "source": [
    "As before, we can use a [SqliteSaver checkpointer](https://langchain-ai.github.io/langgraph/concepts/low_level/#checkpointer).\n",
    "\n",
    "This creates a temporary in-memory database.    \n",
    "\n",
    "The checkpointer allows us to create  \"threads\" of conversation, where each thread maintains its own state."
   ]
  },
  {
   "cell_type": "code",
   "execution_count": 46,
   "id": "b77401f1-ec5d-45c4-8e49-bb6d6efddb52",
   "metadata": {},
   "outputs": [
    {
     "name": "stdout",
     "output_type": "stream",
     "text": [
      "================================\u001b[1m Human Message \u001b[0m=================================\n",
      "\n",
      "hi! I'm Lance\n",
      "==================================\u001b[1m Ai Message \u001b[0m==================================\n",
      "\n",
      "Hi there! It's nice to meet you Lance. I'm Claude, an AI assistant created by Anthropic. How can I help you today?\n",
      "================================\u001b[1m Human Message \u001b[0m=================================\n",
      "\n",
      "what's my name?\n",
      "==================================\u001b[1m Ai Message \u001b[0m==================================\n",
      "\n",
      "Your name is Lance, as you introduced yourself at the start of our conversation.\n",
      "================================\u001b[1m Human Message \u001b[0m=================================\n",
      "\n",
      "i like the 49ers!\n",
      "==================================\u001b[1m Ai Message \u001b[0m==================================\n",
      "\n",
      "That's great, the 49ers are a popular NFL team. Do you follow them closely? Who are some of your favorite players on the team?\n"
     ]
    }
   ],
   "source": [
    "def print_update(update):\n",
    "    for k, v in update.items():\n",
    "        for m in v[\"messages\"]:\n",
    "            m.pretty_print()\n",
    "        if \"summary\" in v:\n",
    "            print(v[\"summary\"])\n",
    "\n",
    "# Create a thread\n",
    "config = {\"configurable\": {\"thread_id\": \"1\"}}\n",
    "\n",
    "# Start conversation\n",
    "input_message = HumanMessage(content=\"hi! I'm Lance\")\n",
    "input_message.pretty_print()\n",
    "for event in app.stream({\"messages\": [input_message]}, config, stream_mode=\"updates\"):\n",
    "    print_update(event)\n",
    "\n",
    "input_message = HumanMessage(content=\"what's my name?\")\n",
    "input_message.pretty_print()\n",
    "for event in app.stream({\"messages\": [input_message]}, config, stream_mode=\"updates\"):\n",
    "    print_update(event)\n",
    "\n",
    "input_message = HumanMessage(content=\"i like the 49ers!\")\n",
    "input_message.pretty_print()\n",
    "for event in app.stream({\"messages\": [input_message]}, config, stream_mode=\"updates\"):\n",
    "    print_update(event)"
   ]
  },
  {
   "cell_type": "markdown",
   "id": "834683fb-d740-42fa-bb1f-2d3e3e7c1722",
   "metadata": {},
   "source": [
    "Now, we don't yet have a summary of the state because we still have < = 6 messages.\n",
    "\n",
    "We can pick up the conversation because we have the thread."
   ]
  },
  {
   "cell_type": "code",
   "execution_count": 50,
   "id": "2f2afd4e-32bd-4feb-8706-d40bfee5f08c",
   "metadata": {},
   "outputs": [
    {
     "data": {
      "text/plain": [
       "''"
      ]
     },
     "execution_count": 50,
     "metadata": {},
     "output_type": "execute_result"
    }
   ],
   "source": [
    "app.get_state(config).values.get(\"summary\",\"\")"
   ]
  },
  {
   "cell_type": "markdown",
   "id": "b5c4202d-2daf-432d-9bf6-5d2ada74ec60",
   "metadata": {},
   "source": [
    "As we continue, we see that summarization are done, older messages are removed, and we proceed. "
   ]
  },
  {
   "cell_type": "code",
   "execution_count": 51,
   "id": "c7fd307e-95c4-4f8a-b365-47357330dec5",
   "metadata": {},
   "outputs": [
    {
     "name": "stdout",
     "output_type": "stream",
     "text": [
      "================================\u001b[1m Human Message \u001b[0m=================================\n",
      "\n",
      "i like Nick Bosa, isn't he the highest paid defensive player?\n",
      "==================================\u001b[1m Ai Message \u001b[0m==================================\n",
      "\n",
      "You're right, Nick Bosa is currently the highest paid defensive player in the NFL. In 2022, he signed a record-breaking 5-year, $141 million contract extension with the 49ers, making him the highest paid non-quarterback in the league.\n",
      "\n",
      "Bosa is an incredibly talented and dominant defensive end for the 49ers. He was the 2nd overall pick in the 2019 NFL Draft and has quickly established himself as one of the best pass rushers in the game. In 2022, he recorded 18.5 sacks, 49 tackles, and 19 tackles for loss, helping lead the 49ers' defense.\n",
      "\n",
      "It's great to hear you're a fan of Bosa and the 49ers. He's certainly one of the most impactful and well-compensated defensive players in the NFL right now. Let me know if you have any other thoughts on the 49ers or the NFL in general!\n",
      "================================\u001b[1m Remove Message \u001b[0m================================\n",
      "\n",
      "\n",
      "================================\u001b[1m Remove Message \u001b[0m================================\n",
      "\n",
      "\n",
      "================================\u001b[1m Remove Message \u001b[0m================================\n",
      "\n",
      "\n",
      "================================\u001b[1m Remove Message \u001b[0m================================\n",
      "\n",
      "\n",
      "================================\u001b[1m Remove Message \u001b[0m================================\n",
      "\n",
      "\n",
      "================================\u001b[1m Remove Message \u001b[0m================================\n",
      "\n",
      "\n",
      "Here is a summary of the conversation so far:\n",
      "\n",
      "The conversation started with me, the AI assistant Claude, greeting the human and introducing myself. The human then asked me what their name was, and I correctly identified their name as Lance.\n",
      "\n",
      "The human then mentioned that they like the San Francisco 49ers NFL team. I responded positively and asked if they follow the team closely. The human then brought up that they like 49ers player Nick Bosa, and noted that Bosa is currently the highest paid defensive player in the NFL.\n",
      "\n",
      "I confirmed that this is accurate, explaining that Bosa recently signed a record-breaking 5-year, $141 million contract extension with the 49ers, making him the highest paid non-quarterback in the league. I also highlighted some of Bosa's impressive stats and performance from the 2022 season.\n",
      "\n",
      "Overall, the conversation so far has centered around the human's fandom of the 49ers, particularly their admiration for star defensive player Nick Bosa and his new lucrative contract.\n"
     ]
    },
    {
     "name": "stderr",
     "output_type": "stream",
     "text": [
      "/Users/rlm/miniforge3/envs/llama2/lib/python3.11/site-packages/langchain_core/_api/beta_decorator.py:87: LangChainBetaWarning: The class `RemoveMessage` is in beta. It is actively being worked on, so the API may change.\n",
      "  warn_beta(\n"
     ]
    }
   ],
   "source": [
    "input_message = HumanMessage(content=\"i like Nick Bosa, isn't he the highest paid defensive player?\")\n",
    "input_message.pretty_print()\n",
    "for event in app.stream({\"messages\": [input_message]}, config, stream_mode=\"updates\"):\n",
    "    print_update(event)"
   ]
  },
  {
   "cell_type": "code",
   "execution_count": 52,
   "id": "1cda34ca-2737-4721-97ba-b407b66b2779",
   "metadata": {},
   "outputs": [
    {
     "data": {
      "text/plain": [
       "\"Here is a summary of the conversation so far:\\n\\nThe conversation started with me, the AI assistant Claude, greeting the human and introducing myself. The human then asked me what their name was, and I correctly identified their name as Lance.\\n\\nThe human then mentioned that they like the San Francisco 49ers NFL team. I responded positively and asked if they follow the team closely. The human then brought up that they like 49ers player Nick Bosa, and noted that Bosa is currently the highest paid defensive player in the NFL.\\n\\nI confirmed that this is accurate, explaining that Bosa recently signed a record-breaking 5-year, $141 million contract extension with the 49ers, making him the highest paid non-quarterback in the league. I also highlighted some of Bosa's impressive stats and performance from the 2022 season.\\n\\nOverall, the conversation so far has centered around the human's fandom of the 49ers, particularly their admiration for star defensive player Nick Bosa and his new lucrative contract.\""
      ]
     },
     "execution_count": 52,
     "metadata": {},
     "output_type": "execute_result"
    }
   ],
   "source": [
    "app.get_state(config).values.get(\"summary\",\"\")"
   ]
  },
  {
   "cell_type": "code",
   "execution_count": 53,
   "id": "b9929c25-a6b5-4864-a934-339c3804c22a",
   "metadata": {},
   "outputs": [
    {
     "name": "stdout",
     "output_type": "stream",
     "text": [
      "================================\u001b[1m Human Message \u001b[0m=================================\n",
      "\n",
      "i also like CMC. when did he join the 49ers, again?\n",
      "==================================\u001b[1m Ai Message \u001b[0m==================================\n",
      "\n",
      "You're talking about Christian McCaffrey, the star running back who was recently traded to the San Francisco 49ers. However, McCaffrey did not join the 49ers in 2022 - he was actually traded to the 49ers midway through the 2022 season.\n",
      "\n",
      "The trade happened on October 20, 2022, when the 49ers acquired McCaffrey from the Carolina Panthers in exchange for a haul of draft picks, including a 2023 second-round pick, a 2023 third-round pick, a 2023 fourth-round pick and a 2024 fifth-round pick.\n",
      "\n",
      "McCaffrey had spent his entire NFL career with the Panthers since being drafted 8th overall in 2017. But the 49ers saw him as a perfect fit for their offense and were willing to give up significant draft capital to bring him in as a dynamic weapon alongside players like Deebo Samuel and George Kittle.\n",
      "\n",
      "So in summary, Christian McCaffrey joined the San Francisco 49ers in the middle of the 2022 NFL season, not at the start. It was a blockbuster trade that has bolstered the 49ers' offense as they push for a playoff run.\n"
     ]
    }
   ],
   "source": [
    "input_message = HumanMessage(content=\"i also like CMC. when did he join the 49ers, again?\")\n",
    "input_message.pretty_print()\n",
    "for event in app.stream({\"messages\": [input_message]}, config, stream_mode=\"updates\"):\n",
    "    print_update(event)"
   ]
  },
  {
   "cell_type": "markdown",
   "id": "94498647-81c4-4918-9844-23f7ae092a16",
   "metadata": {},
   "source": [
    "### Lesson 3: Saving to an external DB\n",
    "\n",
    "Above, we were using a [SqliteSaver checkpointer](https://langchain-ai.github.io/langgraph/concepts/low_level/#checkpointer).\n",
    "\n",
    "When we supply `\":memory:\"` it creates an in-memory DB.\n",
    "\n",
    "If we supply the path to a sqlite DB, then a DB will be created to persist the state."
   ]
  },
  {
   "cell_type": "code",
   "execution_count": 68,
   "id": "22de6c7d-15ed-4a29-b624-b360a6d385fa",
   "metadata": {},
   "outputs": [
    {
     "data": {
      "image/jpeg": "[encoded data removed]",
      "text/plain": [
       "<IPython.core.display.Image object>"
      ]
     },
     "metadata": {},
     "output_type": "display_data"
    }
   ],
   "source": [
    "# Compile\n",
    "db_path = \"/Users/rlm/Desktop/example.db\"\n",
    "memory = SqliteSaver.from_conn_string(db_path)\n",
    "graph = workflow.compile(checkpointer=memory)\n",
    "display(Image(app.get_graph().draw_mermaid_png()))"
   ]
  },
  {
   "cell_type": "code",
   "execution_count": 69,
   "id": "ad55c2d3-9852-4949-bad4-c149de28bcf7",
   "metadata": {},
   "outputs": [
    {
     "name": "stdout",
     "output_type": "stream",
     "text": [
      "================================\u001b[1m Human Message \u001b[0m=================================\n",
      "\n",
      "hi! I'm Lance\n",
      "==================================\u001b[1m Ai Message \u001b[0m==================================\n",
      "\n",
      "Hi Lance, it's nice to meet you! How can I assist you today?\n",
      "================================\u001b[1m Human Message \u001b[0m=================================\n",
      "\n",
      "what's my name?\n",
      "==================================\u001b[1m Ai Message \u001b[0m==================================\n",
      "\n",
      "You said your name is Lance.\n",
      "================================\u001b[1m Human Message \u001b[0m=================================\n",
      "\n",
      "i like the 49ers!\n",
      "==================================\u001b[1m Ai Message \u001b[0m==================================\n",
      "\n",
      "Okay, got it - you like the 49ers football team. The 49ers are a professional American football team based in the San Francisco Bay Area. They play in the National Football League (NFL) and have had a lot of success over the years, winning 5 Super Bowl championships. It's great that you're a fan of theirs!\n"
     ]
    }
   ],
   "source": [
    "# Create a thread\n",
    "config = {\"configurable\": {\"thread_id\": \"2\"}}\n",
    "\n",
    "# Start conversation\n",
    "input_message = HumanMessage(content=\"hi! I'm Lance\")\n",
    "input_message.pretty_print()\n",
    "for event in app.stream({\"messages\": [input_message]}, config, stream_mode=\"updates\"):\n",
    "    print_update(event)\n",
    "\n",
    "input_message = HumanMessage(content=\"what's my name?\")\n",
    "input_message.pretty_print()\n",
    "for event in app.stream({\"messages\": [input_message]}, config, stream_mode=\"updates\"):\n",
    "    print_update(event)\n",
    "\n",
    "input_message = HumanMessage(content=\"i like the 49ers!\")\n",
    "input_message.pretty_print()\n",
    "for event in app.stream({\"messages\": [input_message]}, config, stream_mode=\"updates\"):\n",
    "    print_update(event)"
   ]
  },
  {
   "cell_type": "code",
   "execution_count": null,
   "id": "0b97270f-9a81-4a08-bf33-6ec766ea44be",
   "metadata": {},
   "outputs": [],
   "source": [
    "%%capture --no-stderr\n",
    "%pip install --quiet -U sqlite3"
   ]
  },
  {
   "cell_type": "code",
   "execution_count": 80,
   "id": "1ef6e5e1-cf11-4ecd-a165-ccec2d910023",
   "metadata": {},
   "outputs": [
    {
     "name": "stdout",
     "output_type": "stream",
     "text": [
      "No tables found in the database.\n"
     ]
    }
   ],
   "source": [
    "import sqlite3\n",
    "\n",
    "def dump_db_contents(cursor):\n",
    "    \n",
    "    # Retrieve the names of all tables\n",
    "    cursor.execute(\"SELECT name FROM sqlite_master WHERE type='table';\")\n",
    "    tables = cursor.fetchall()\n",
    "    if not tables:\n",
    "        print(\"No tables found in the database.\")\n",
    "    else:\n",
    "        for table in tables:\n",
    "            table_name = table[0]\n",
    "            print(f\"Table: {table_name}\")\n",
    "            \n",
    "            # Fetch and print all data from the table\n",
    "            cursor.execute(f\"SELECT * FROM {table_name}\")\n",
    "            rows = cursor.fetchall()\n",
    "            \n",
    "            # Get column names\n",
    "            cursor.execute(f\"PRAGMA table_info({table_name})\")\n",
    "            columns = [desc[1] for desc in cursor.fetchall()]\n",
    "            \n",
    "            print(f\"Columns: {', '.join(columns)}\")\n",
    "            \n",
    "            for row in rows:\n",
    "                print(row)\n",
    "            print()\n",
    "            \n",
    "# Dump the database contents\n",
    "conn = sqlite3.connect(db_path)\n",
    "cursor = conn.cursor()\n",
    "\n",
    "dump_db_contents(cursor)\n",
    "\n",
    "# Close the connection\n",
    "conn.close()"
   ]
  },
  {
   "cell_type": "markdown",
   "id": "30ae88cd-4b65-4ac3-9de2-f5a5f60a97be",
   "metadata": {},
   "source": [
    "Also, show the postgres lib.\n",
    "\n",
    "```\n",
    "pip installable library with postgres checkpointer\n",
    "```"
   ]
  },
  {
   "cell_type": "code",
   "execution_count": null,
   "id": "8960fe75-cdce-4de0-863a-7f30eaf2318e",
   "metadata": {},
   "outputs": [],
   "source": []
  }
 ],
 "metadata": {
  "kernelspec": {
   "display_name": "Python 3 (ipykernel)",
   "language": "python",
   "name": "python3"
  },
  "language_info": {
   "codemirror_mode": {
    "name": "ipython",
    "version": 3
   },
   "file_extension": ".py",
   "mimetype": "text/x-python",
   "name": "python",
   "nbconvert_exporter": "python",
   "pygments_lexer": "ipython3",
   "version": "3.11.8"
  }
 },
 "nbformat": 4,
 "nbformat_minor": 5
}
